{
 "cells": [
  {
   "cell_type": "code",
   "execution_count": 2,
   "id": "d22dde9f-94a5-440f-a9d4-e5e1d3121d74",
   "metadata": {},
   "outputs": [
    {
     "name": "stdin",
     "output_type": "stream",
     "text": [
      " 3 5\n"
     ]
    },
    {
     "name": "stdout",
     "output_type": "stream",
     "text": [
      "5 3\n",
      "5 3\n"
     ]
    }
   ],
   "source": [
    "#W3A2\n",
    "a, b = map(int,input().split())\n",
    "\n",
    "def m1(a, b):\n",
    "    a = a^b\n",
    "    b = a^b\n",
    "    a = a^b\n",
    "    print(a, b)\n",
    "    \n",
    "def m2(a, b):\n",
    "    a = a+b\n",
    "    b = a-b\n",
    "    a = a-b #Similar with * operator\n",
    "    print(a,b)\n",
    "\n",
    "m1(a,b)\n",
    "m2(a,b)"
   ]
  },
  {
   "cell_type": "code",
   "execution_count": 5,
   "id": "92cf5dce-85ea-4077-bd5d-4c407fe66727",
   "metadata": {},
   "outputs": [
    {
     "name": "stdin",
     "output_type": "stream",
     "text": [
      " 9\n"
     ]
    },
    {
     "name": "stdout",
     "output_type": "stream",
     "text": [
      "KO\n"
     ]
    }
   ],
   "source": [
    "#W3A3\n",
    "n = int(input())\n",
    "\n",
    "def luythua(n):\n",
    "    if n == 1:\n",
    "        return 1\n",
    "    if n<1:\n",
    "        return 0\n",
    "    return luythua(n/2)\n",
    "    \n",
    "if luythua(n) == 1:\n",
    "    print('OK')\n",
    "else:\n",
    "    print('KO')"
   ]
  },
  {
   "cell_type": "code",
   "execution_count": 6,
   "id": "810bf912-1501-4385-9b1e-572e263a4ae3",
   "metadata": {},
   "outputs": [
    {
     "name": "stdin",
     "output_type": "stream",
     "text": [
      " 5 3\n"
     ]
    },
    {
     "name": "stdout",
     "output_type": "stream",
     "text": [
      "1\n"
     ]
    }
   ],
   "source": [
    "#W3A4\n",
    "m,n = map(int, input().split())\n",
    "\n",
    "print(int(m/n))"
   ]
  },
  {
   "cell_type": "code",
   "execution_count": 11,
   "id": "6c9068a1-65c2-4f2f-9c38-d8a1f3fde1ea",
   "metadata": {},
   "outputs": [
    {
     "name": "stdin",
     "output_type": "stream",
     "text": [
      " 9\n"
     ]
    },
    {
     "name": "stdout",
     "output_type": "stream",
     "text": [
      "Nhap cai khac di cai nay khong tinh\n"
     ]
    }
   ],
   "source": [
    "#W3A5\n",
    "\n",
    "try:\n",
    "    m,n = map(int, input().split())\n",
    "    \n",
    "    if m/n % 1 == 0:\n",
    "        print(m/n)\n",
    "    else:\n",
    "        print(int(m/n)+1)\n",
    "        \n",
    "except ValueError:\n",
    "    print(\"Nhap cai khac di cai nay khong tinh\")"
   ]
  },
  {
   "cell_type": "code",
   "execution_count": 14,
   "id": "599ddeb8-a04f-4d1d-99b8-b7258cd3570a",
   "metadata": {},
   "outputs": [
    {
     "name": "stdin",
     "output_type": "stream",
     "text": [
      " 2\n"
     ]
    },
    {
     "name": "stdout",
     "output_type": "stream",
     "text": [
      "Even\n"
     ]
    }
   ],
   "source": [
    "#W3A6\n",
    "x = int(input())\n",
    "print('Even' if x%2 == 0 else 'Odd')"
   ]
  },
  {
   "cell_type": "code",
   "execution_count": 16,
   "id": "a28347d6-1ef6-468a-b215-cc7622b53656",
   "metadata": {},
   "outputs": [
    {
     "name": "stdin",
     "output_type": "stream",
     "text": [
      " 6 2\n"
     ]
    },
    {
     "name": "stdout",
     "output_type": "stream",
     "text": [
      "No\n"
     ]
    }
   ],
   "source": [
    "#W3A7\n",
    "try:\n",
    "    a, b = map(int,input().split())\n",
    "    \n",
    "    if a<0 and b<0:\n",
    "        print('Yes')\n",
    "    else:\n",
    "        print('No')\n",
    "        \n",
    "except ValueError:\n",
    "    print('Nhap lai')\n"
   ]
  },
  {
   "cell_type": "code",
   "execution_count": 18,
   "id": "870d2fe5-51e8-457b-b244-f416f19efab3",
   "metadata": {},
   "outputs": [
    {
     "name": "stdin",
     "output_type": "stream",
     "text": [
      " asdf asdfa\n"
     ]
    },
    {
     "name": "stdout",
     "output_type": "stream",
     "text": [
      "False\n"
     ]
    }
   ],
   "source": [
    "#W3A8\n",
    "a, b = input().split()\n",
    "\n",
    "if len(a) > len(b):\n",
    "    print(True)\n",
    "elif len(a) < len(b):\n",
    "    print(False)"
   ]
  },
  {
   "cell_type": "code",
   "execution_count": 19,
   "id": "16d42fe7-3feb-453d-b6b3-9f872c2f651a",
   "metadata": {},
   "outputs": [
    {
     "name": "stdin",
     "output_type": "stream",
     "text": [
      " 3 4 5\n"
     ]
    },
    {
     "name": "stdout",
     "output_type": "stream",
     "text": [
      "Yes\n"
     ]
    }
   ],
   "source": [
    "#W3A9\n",
    "a, b, c = map(float, input().split())\n",
    "\n",
    "if a+b>c and a+c>b and b+c>a:\n",
    "    print('Yes')\n",
    "else:\n",
    "    print('No')"
   ]
  },
  {
   "cell_type": "code",
   "execution_count": 20,
   "id": "f6f63b3b-d3ef-4d09-beaa-0e51ac19b4c2",
   "metadata": {},
   "outputs": [
    {
     "name": "stdin",
     "output_type": "stream",
     "text": [
      " 1 2 3 4\n"
     ]
    },
    {
     "name": "stdout",
     "output_type": "stream",
     "text": [
      "4\n"
     ]
    }
   ],
   "source": [
    "#W3A10\n",
    "a, b, c, d = map(int, input().split())\n",
    "\n",
    "print(max(max(max(a,b),c),d))"
   ]
  },
  {
   "cell_type": "code",
   "execution_count": 21,
   "id": "5ef7c945-2c44-4f38-a378-672ab05b81dc",
   "metadata": {},
   "outputs": [
    {
     "name": "stdin",
     "output_type": "stream",
     "text": [
      " 3 4 5\n"
     ]
    },
    {
     "name": "stdout",
     "output_type": "stream",
     "text": [
      "Tam giac thuong\n"
     ]
    }
   ],
   "source": [
    "#W3A11\n",
    "a,b,c = map(int, input().split())\n",
    "\n",
    "if a+b>c and a+c>b and b+c>a:\n",
    "    \n",
    "    if a==b==c:\n",
    "        print('Tam giac deu')\n",
    "    elif a==b or a==c or b==c:\n",
    "        print('Tam giac can')\n",
    "    else:\n",
    "        print('Tam giac thuong')\n",
    "        \n",
    "else:\n",
    "    print('Khong phai tam giac')"
   ]
  },
  {
   "cell_type": "code",
   "execution_count": 22,
   "id": "91c85734-63ad-482c-bcd6-779090882dd6",
   "metadata": {},
   "outputs": [
    {
     "name": "stdin",
     "output_type": "stream",
     "text": [
      " 4000\n"
     ]
    },
    {
     "name": "stdout",
     "output_type": "stream",
     "text": [
      "Yes\n"
     ]
    }
   ],
   "source": [
    "#W3A12\n",
    "\n",
    "n = int(input())\n",
    "\n",
    "if n%400 == 0 or (n%4 == 0 and n%100 != 0):\n",
    "    print('Yes')\n",
    "else: print('No')"
   ]
  },
  {
   "cell_type": "code",
   "execution_count": 23,
   "id": "09c5a43c-3e08-42b0-acf2-8aee851b3e4a",
   "metadata": {},
   "outputs": [
    {
     "name": "stdin",
     "output_type": "stream",
     "text": [
      " 4 6\n"
     ]
    },
    {
     "name": "stdout",
     "output_type": "stream",
     "text": [
      "-1.50\n"
     ]
    }
   ],
   "source": [
    "#W3A14\n",
    "\n",
    "a, b = map(float, input().split())\n",
    "\n",
    "if a == 0 and b==0:\n",
    "    print('Vo so nghiem')\n",
    "elif a==0:\n",
    "    print('Vo nghiem')\n",
    "else:\n",
    "    print(f'{-b/a:.2f}')\n"
   ]
  },
  {
   "cell_type": "code",
   "execution_count": 25,
   "id": "1d147728-5424-46e7-8026-2b2b47b39691",
   "metadata": {},
   "outputs": [
    {
     "name": "stdin",
     "output_type": "stream",
     "text": [
      " 6.8\n"
     ]
    },
    {
     "name": "stdout",
     "output_type": "stream",
     "text": [
      "Kha\n"
     ]
    }
   ],
   "source": [
    "#W3A15\n",
    "n = float(input())\n",
    "\n",
    "if n>=8.0:\n",
    "    print('Gioi')\n",
    "elif n>=6.5:\n",
    "    print('Kha')\n",
    "elif n>=5.0:\n",
    "    print('Trung binh')\n",
    "else:\n",
    "    print('Yeu')"
   ]
  }
 ],
 "metadata": {
  "kernelspec": {
   "display_name": "Python 3 (ipykernel)",
   "language": "python",
   "name": "python3"
  },
  "language_info": {
   "codemirror_mode": {
    "name": "ipython",
    "version": 3
   },
   "file_extension": ".py",
   "mimetype": "text/x-python",
   "name": "python",
   "nbconvert_exporter": "python",
   "pygments_lexer": "ipython3",
   "version": "3.13.7"
  }
 },
 "nbformat": 4,
 "nbformat_minor": 5
}
