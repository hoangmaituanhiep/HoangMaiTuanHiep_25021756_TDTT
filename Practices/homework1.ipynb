{
 "cells": [
  {
   "cell_type": "code",
   "execution_count": 1,
   "id": "b915a98d-49a9-47f3-884e-d9680f2979be",
   "metadata": {},
   "outputs": [
    {
     "name": "stdin",
     "output_type": "stream",
     "text": [
      " 2\n"
     ]
    },
    {
     "name": "stdout",
     "output_type": "stream",
     "text": [
      "4\n"
     ]
    }
   ],
   "source": [
    "#1\n",
    "n = int(input())\n",
    "print(n*2)"
   ]
  },
  {
   "cell_type": "code",
   "execution_count": 2,
   "id": "6e50bb75-d240-456c-b701-fa6afc32652b",
   "metadata": {},
   "outputs": [
    {
     "name": "stdin",
     "output_type": "stream",
     "text": [
      " 12 3\n"
     ]
    },
    {
     "name": "stdout",
     "output_type": "stream",
     "text": [
      "31.29\n"
     ]
    }
   ],
   "source": [
    "#2\n",
    "a,b = map(int, input().split())\n",
    "sh = a*b\n",
    "if a > b:\n",
    "    st = b/2*3.14\n",
    "else:\n",
    "    st = a/2*3,14\n",
    "print(sh-st)"
   ]
  },
  {
   "cell_type": "code",
   "execution_count": 10,
   "id": "a65dad31-6dd4-436f-813a-eec6188e22cb",
   "metadata": {},
   "outputs": [
    {
     "name": "stdin",
     "output_type": "stream",
     "text": [
      " a\n"
     ]
    },
    {
     "name": "stdout",
     "output_type": "stream",
     "text": [
      "A\n"
     ]
    }
   ],
   "source": [
    "#3\n",
    "c = input()\n",
    "if ord(c) <= ord('A'):\n",
    "    print(chr(ord(c) + 32));\n",
    "else:\n",
    "    print(chr(ord(c) - 32))"
   ]
  },
  {
   "cell_type": "code",
   "execution_count": 3,
   "id": "932d4b44-b1c0-4140-bcee-d1c7d2e53bc0",
   "metadata": {},
   "outputs": [
    {
     "name": "stdin",
     "output_type": "stream",
     "text": [
      " Z\n"
     ]
    },
    {
     "name": "stdout",
     "output_type": "stream",
     "text": [
      "Z la ki tu alphabet\n"
     ]
    }
   ],
   "source": [
    "#4\n",
    "c = input()\n",
    "if ord('A')<=ord(c)<=ord('z'):\n",
    "    print(f'{c} la ki tu alphabet')\n",
    "else:\n",
    "    print(f'{c} khong phai la ki tu alphabet')\n",
    "    "
   ]
  },
  {
   "cell_type": "code",
   "execution_count": 7,
   "id": "7718fc94-355b-4e52-8bcb-4b43e995ef24",
   "metadata": {},
   "outputs": [
    {
     "name": "stdin",
     "output_type": "stream",
     "text": [
      " Z\n"
     ]
    },
    {
     "name": "stdout",
     "output_type": "stream",
     "text": [
      "y\n"
     ]
    }
   ],
   "source": [
    "#5\n",
    "c = input()\n",
    "if c == 'A':\n",
    "    print('Het roi')\n",
    "else:\n",
    "    a = ord(c)+32-1\n",
    "    print(chr(a))"
   ]
  },
  {
   "cell_type": "code",
   "execution_count": 10,
   "id": "80a875a9-c90f-4fb1-b579-c78a10bd1a80",
   "metadata": {},
   "outputs": [
    {
     "name": "stdin",
     "output_type": "stream",
     "text": [
      " 3 4 5\n"
     ]
    },
    {
     "name": "stdout",
     "output_type": "stream",
     "text": [
      "Dien tich: 6.00\n",
      "\n",
      "Chu vi: 12.0\n"
     ]
    }
   ],
   "source": [
    "#6\n",
    "from math import sqrt\n",
    "a, b, c = map(int, input().split())\n",
    "if a + b > c and a + c > b and b + c > a:\n",
    "    p = (a+b+c)/2\n",
    "    S = sqrt(p*(p-a)*(p-b)*(p-c))\n",
    "    print(f'Dien tich: {S:.2f}')\n",
    "    print('\\nChu vi:', p*2)\n",
    "else:\n",
    "    print('Khong phai tam giac')"
   ]
  },
  {
   "cell_type": "code",
   "execution_count": 12,
   "id": "502df054-59fa-45c9-a363-10a654eefa77",
   "metadata": {},
   "outputs": [
    {
     "name": "stdin",
     "output_type": "stream",
     "text": [
      " hgjfkrutnghfkvcufnghd\n"
     ]
    },
    {
     "name": "stdout",
     "output_type": "stream",
     "text": [
      "k\n",
      "\n",
      " n\n"
     ]
    }
   ],
   "source": [
    "#7\n",
    "string = input()\n",
    "print(string[4])\n",
    "print(string[8])"
   ]
  },
  {
   "cell_type": "code",
   "execution_count": 17,
   "id": "9c015279-5438-482d-9515-ae6eaf7857d9",
   "metadata": {},
   "outputs": [
    {
     "name": "stdin",
     "output_type": "stream",
     "text": [
      " ok\n",
      "Chi so thang truoc: 1020\n",
      "Chi so thang nay: 1070\n"
     ]
    },
    {
     "name": "stdout",
     "output_type": "stream",
     "text": [
      "Ho va ten: ok\n",
      "Tien phai tra: 107136\n"
     ]
    }
   ],
   "source": [
    "#8\n",
    "ten = input()\n",
    "a = int(input('Chi so thang truoc:'))\n",
    "b = int(input('Chi so thang nay:'))\n",
    "so = b-a\n",
    "\n",
    "tien = [1984, 2050, 2380, 2998, 3350,3460]\n",
    "dien = [0, 51, 101, 201, 301, 401]\n",
    "\n",
    "i = 0\n",
    "tien_dien = 0\n",
    "while so - dien[i] >= 0 and i<6:\n",
    "    tien_dien = so*tien[i]\n",
    "    i+=1\n",
    "tien_dien = tien_dien + tien_dien*8/100\n",
    "print('Ho va ten:', ten)\n",
    "print(f'Tien phai tra: {tien_dien:.0f}')\n"
   ]
  },
  {
   "cell_type": "code",
   "execution_count": null,
   "id": "b151743d-d6e7-4fd6-a000-3a6062211b35",
   "metadata": {},
   "outputs": [],
   "source": []
  }
 ],
 "metadata": {
  "kernelspec": {
   "display_name": "Python 3 (ipykernel)",
   "language": "python",
   "name": "python3"
  },
  "language_info": {
   "codemirror_mode": {
    "name": "ipython",
    "version": 3
   },
   "file_extension": ".py",
   "mimetype": "text/x-python",
   "name": "python",
   "nbconvert_exporter": "python",
   "pygments_lexer": "ipython3",
   "version": "3.13.7"
  }
 },
 "nbformat": 4,
 "nbformat_minor": 5
}
