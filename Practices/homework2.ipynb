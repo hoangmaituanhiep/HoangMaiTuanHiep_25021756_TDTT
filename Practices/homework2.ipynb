{
 "cells": [
  {
   "cell_type": "code",
   "execution_count": null,
   "id": "8fb64f97-dfa5-4a7c-861b-24377ac4a39c",
   "metadata": {},
   "outputs": [],
   "source": [
    "#1\n",
    "a, b = map(int, input().split())\n",
    "print('Chu vi:', a*2+b*2)\n",
    "print('Dien tich:', a*b)"
   ]
  },
  {
   "cell_type": "code",
   "execution_count": 1,
   "id": "ea871630-73c3-4903-9f49-ba283fef3b16",
   "metadata": {},
   "outputs": [
    {
     "name": "stdin",
     "output_type": "stream",
     "text": [
      " 3\n"
     ]
    },
    {
     "name": "stdout",
     "output_type": "stream",
     "text": [
      "Chu vi: 18.84\n",
      "Dien tich: 28.26\n"
     ]
    }
   ],
   "source": [
    "#2\n",
    "r = int(input())\n",
    "print(f'Chu vi: {r*2*3.14:.2f}')\n",
    "print(f'Dien tich: {r*r*3.14:.2f}')"
   ]
  },
  {
   "cell_type": "code",
   "execution_count": 3,
   "id": "aa0fbefa-d8a3-4d9b-bcbc-f76288487d76",
   "metadata": {},
   "outputs": [
    {
     "name": "stdin",
     "output_type": "stream",
     "text": [
      " 3 5 4\n"
     ]
    },
    {
     "name": "stdout",
     "output_type": "stream",
     "text": [
      "Tam giac vuong.\n"
     ]
    }
   ],
   "source": [
    "#3\n",
    "a, b, c = map(int, input().split())\n",
    "if a + b > c and a + c > b and b + c > a:\n",
    "    if a == b == c:\n",
    "        print('Tam giac deu.')\n",
    "    if a*a + b*b == c*c or a*a + c*c == b*b or b*b + c*c == a*a:\n",
    "        print('Tam giac vuong.')\n",
    "    else:\n",
    "        print('Tam giac thuong')\n",
    "else:\n",
    "    print('Khong la tam giac')"
   ]
  },
  {
   "cell_type": "code",
   "execution_count": 4,
   "id": "a2e2c0ca-1f24-4544-a20e-d06b82846de4",
   "metadata": {},
   "outputs": [
    {
     "name": "stdin",
     "output_type": "stream",
     "text": [
      " 3 -5\n"
     ]
    },
    {
     "name": "stdout",
     "output_type": "stream",
     "text": [
      "x = 1.67\n"
     ]
    }
   ],
   "source": [
    "#4\n",
    "a, b = map(int, input().split())\n",
    "print(f'x = {-b/a:.2f}')"
   ]
  },
  {
   "cell_type": "code",
   "execution_count": null,
   "id": "427839e4-dc42-42d7-bd7c-9d89e30c02d2",
   "metadata": {},
   "outputs": [],
   "source": [
    "#5"
   ]
  }
 ],
 "metadata": {
  "kernelspec": {
   "display_name": "Python 3 (ipykernel)",
   "language": "python",
   "name": "python3"
  },
  "language_info": {
   "codemirror_mode": {
    "name": "ipython",
    "version": 3
   },
   "file_extension": ".py",
   "mimetype": "text/x-python",
   "name": "python",
   "nbconvert_exporter": "python",
   "pygments_lexer": "ipython3",
   "version": "3.13.7"
  }
 },
 "nbformat": 4,
 "nbformat_minor": 5
}
