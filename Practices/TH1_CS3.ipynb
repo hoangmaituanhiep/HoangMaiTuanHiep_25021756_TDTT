{
 "cells": [
  {
   "cell_type": "code",
   "execution_count": 1,
   "id": "d413f53b-9870-4e28-b8e9-361927d3a268",
   "metadata": {},
   "outputs": [
    {
     "name": "stdout",
     "output_type": "stream",
     "text": [
      "Thanh pho Ha Noi - Nam 2025 .Hom nay la ngay: 90-12-2025\n"
     ]
    }
   ],
   "source": [
    "#W1A1\n",
    "a = 7\n",
    "b = 5\n",
    "c = a - b\n",
    "print(c)"
   ]
  },
  {
   "cell_type": "code",
   "execution_count": null,
   "id": "ed3e0b41-3482-48bf-b203-dea9d0eebc47",
   "metadata": {},
   "outputs": [],
   "source": [
    "#W1A2\n",
    "city = 'Hà Nội'\n",
    "year = 2025\n",
    "print(\"Thành phố: \", city,\"-Năm:\", year)"
   ]
  },
  {
   "cell_type": "code",
   "execution_count": null,
   "id": "42ff5d9a-8ab9-4535-bf0b-101bae2d5d99",
   "metadata": {},
   "outputs": [],
   "source": [
    "#W1A3\n",
    "n = 4\n",
    "t = 0\n",
    "for i in range(1, n+1):\n",
    "    t+=i\n",
    "print(t)"
   ]
  },
  {
   "cell_type": "code",
   "execution_count": null,
   "id": "c9c1c233-37a1-460a-8c00-e0360796f03a",
   "metadata": {},
   "outputs": [],
   "source": [
    "#W1A4\n",
    "numbers = [1,2,3,4]\n",
    "for x in numbers:\n",
    "    if x%2==0:\n",
    "        print(x,'là số chẵn')\n",
    "    else:\n",
    "        print(x, ' là số lẻ')"
   ]
  },
  {
   "cell_type": "code",
   "execution_count": null,
   "id": "e408cdeb-4f24-4ce9-b51b-a779f9ffdf45",
   "metadata": {},
   "outputs": [],
   "source": [
    "#W1A5\n",
    "animals = ['cat', 'dog', 'cat', 'bird']\n",
    "count = 0\n",
    "for a in animals:\n",
    "    count+=1\n",
    "print('Số phần tử trong danh sách là:', count)"
   ]
  },
  {
   "cell_type": "code",
   "execution_count": null,
   "id": "d636bb1f-edaf-4a9d-8b70-354e0f457737",
   "metadata": {},
   "outputs": [],
   "source": [
    "#W1A7\n",
    "num = input(\"Nhập số: \")\n",
    "if num % 2 = 0: #Phải là == thay vì =\n",
    "    print('Số chẵn')\n",
    "else #Thiếu dấu :\n",
    "    print('Số lẻ')"
   ]
  },
  {
   "cell_type": "code",
   "execution_count": null,
   "id": "dadeb431-659a-4164-b163-b8ebb7f1fe54",
   "metadata": {},
   "outputs": [],
   "source": [
    "#W1A8\n",
    "for i in range(3):\n",
    "    print('AI đang học lần', i+1)\n",
    "    print('Huấn luyện xong')"
   ]
  },
  {
   "cell_type": "code",
   "execution_count": null,
   "id": "38063502-31c2-4b9b-b104-10cb6cb40bcd",
   "metadata": {},
   "outputs": [],
   "source": [
    "#W1A9\n",
    "for x in ['cat', 'dog', 'fish']:\n",
    "    print(\"Dự đoán con vật:\", x)"
   ]
  },
  {
   "cell_type": "code",
   "execution_count": null,
   "id": "5346fdfb-028e-4167-99e5-516c927552d8",
   "metadata": {},
   "outputs": [],
   "source": [
    "#W1A10\n",
    "#Simple menu\n",
    "print(\"=== AI Prediction System ===\")\n",
    "print(\"1) Sentiment analysis\")\n",
    "print(\"2) Weather forecast\")\n",
    "print('3) Exit')\n",
    "print(\"Please choose an option:\")"
   ]
  }
 ],
 "metadata": {
  "kernelspec": {
   "display_name": "Python 3 (ipykernel)",
   "language": "python",
   "name": "python3"
  },
  "language_info": {
   "codemirror_mode": {
    "name": "ipython",
    "version": 3
   },
   "file_extension": ".py",
   "mimetype": "text/x-python",
   "name": "python",
   "nbconvert_exporter": "python",
   "pygments_lexer": "ipython3",
   "version": "3.13.7"
  }
 },
 "nbformat": 4,
 "nbformat_minor": 5
}
