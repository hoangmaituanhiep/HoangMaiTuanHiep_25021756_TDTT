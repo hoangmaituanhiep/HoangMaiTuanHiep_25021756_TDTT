{
 "cells": [
  {
   "cell_type": "code",
   "execution_count": 1,
   "id": "fc331845-0c8b-4a10-a6d7-661b0e278554",
   "metadata": {},
   "outputs": [
    {
     "name": "stdout",
     "output_type": "stream",
     "text": [
      "Hello World!\n"
     ]
    }
   ],
   "source": [
    "#W2A1\n",
    "print(\"Hello World!\")"
   ]
  },
  {
   "cell_type": "code",
   "execution_count": 3,
   "id": "f43a6f79-4b16-43c4-b389-a55bc3616a94",
   "metadata": {},
   "outputs": [
    {
     "name": "stdin",
     "output_type": "stream",
     "text": [
      " Hiep Dai Cac\n"
     ]
    },
    {
     "name": "stdout",
     "output_type": "stream",
     "text": [
      "Chao ban Hiep Dai Cac\n"
     ]
    }
   ],
   "source": [
    "#W2A2\n",
    "name = input()\n",
    "print('Chao ban', name)"
   ]
  },
  {
   "cell_type": "code",
   "execution_count": 12,
   "id": "3b4bbe15-70aa-4099-82b0-d42f0801583d",
   "metadata": {},
   "outputs": [
    {
     "name": "stdin",
     "output_type": "stream",
     "text": [
      " 12 30\n"
     ]
    },
    {
     "name": "stdout",
     "output_type": "stream",
     "text": [
      "12 + 30 = 42\n",
      "12 - 30 = -18\n",
      "12 * 30 = 360\n",
      "12 / 30 = 0.40\n",
      "12 % 30 = 12\n",
      "12 // 30 = 0\n"
     ]
    }
   ],
   "source": [
    "#W2A3\n",
    "a, b = map(int, input().split())\n",
    "\n",
    "'''\n",
    "+: cong\n",
    "-: tru\n",
    "*: nhan\n",
    "/: chia\n",
    "//: chia lay nguyen\n",
    "%: chia lay du\n",
    ":.n: voi n la so sau phan thap phan\n",
    "'''\n",
    "print(f'{a} + {b} = {a+b}')\n",
    "print(f'{a} - {b} = {a-b}')\n",
    "print(f'{a} * {b} = {a*b}')\n",
    "print(f'{a} / {b} = {a/b:.2f}')\n",
    "print(f'{a} % {b} = {a%b}')\n",
    "print(f'{a} // {b} = {a//b}')"
   ]
  },
  {
   "cell_type": "code",
   "execution_count": 2,
   "id": "c8107391-6550-4632-a631-53756c18276e",
   "metadata": {},
   "outputs": [
    {
     "name": "stdin",
     "output_type": "stream",
     "text": [
      " 1 2 3 4 5 6\n"
     ]
    },
    {
     "name": "stdout",
     "output_type": "stream",
     "text": [
      "4.2\n"
     ]
    }
   ],
   "source": [
    "#W2A4\n",
    "\n",
    "a1, b1, c1, a2, b2, c3 = map(int, input().split())\n",
    "\n",
    "TB = (a1 + b1 + c1 + (a2 + b2) *2 + c3*3)/10\n",
    "\n",
    "print(f'{TB:.1f}')"
   ]
  },
  {
   "cell_type": "code",
   "execution_count": 1,
   "id": "28e774be-cf37-4826-bf62-46ad876aa1ce",
   "metadata": {},
   "outputs": [
    {
     "name": "stdin",
     "output_type": "stream",
     "text": [
      " 2 3\n"
     ]
    },
    {
     "name": "stdout",
     "output_type": "stream",
     "text": [
      "8\n"
     ]
    }
   ],
   "source": [
    "#W2A5\n",
    "\n",
    "a, b = map(int, input().split())\n",
    "\n",
    "print(a**b)"
   ]
  },
  {
   "cell_type": "code",
   "execution_count": 2,
   "id": "0a7da12a-cb95-4a29-a37d-7caeae5926d8",
   "metadata": {},
   "outputs": [
    {
     "name": "stdin",
     "output_type": "stream",
     "text": [
      " a\n"
     ]
    },
    {
     "name": "stdout",
     "output_type": "stream",
     "text": [
      "97\n",
      "A\n"
     ]
    }
   ],
   "source": [
    "#W2A6\n",
    "char = input()\n",
    "print(ord(char))\n",
    "\n",
    "print(chr(ord(char) - 32))"
   ]
  },
  {
   "cell_type": "code",
   "execution_count": 3,
   "id": "b7825261-f696-4a06-9f00-e62069bd6a34",
   "metadata": {},
   "outputs": [
    {
     "name": "stdout",
     "output_type": "stream",
     "text": [
      "512\n",
      "512\n"
     ]
    }
   ],
   "source": [
    "#W2A7\n",
    "A = ((13**2)*3) + 5\n",
    "B = 13**2*3 +5\n",
    "print(A)\n",
    "print(B)"
   ]
  },
  {
   "cell_type": "code",
   "execution_count": 4,
   "id": "d831d49d-ff84-4201-bdb7-1984e99b75ee",
   "metadata": {},
   "outputs": [
    {
     "name": "stdin",
     "output_type": "stream",
     "text": [
      " 12\n"
     ]
    },
    {
     "name": "stdout",
     "output_type": "stream",
     "text": [
      "53.60\n"
     ]
    }
   ],
   "source": [
    "#W2A8\n",
    "c = int(input())\n",
    "f = 9/5*c + 32\n",
    "print(f'{f:.2f}')"
   ]
  },
  {
   "cell_type": "code",
   "execution_count": 7,
   "id": "0a94bf6f-2c5f-423a-b62b-89feb7a86c88",
   "metadata": {},
   "outputs": [
    {
     "name": "stdin",
     "output_type": "stream",
     "text": [
      " 10\n"
     ]
    },
    {
     "name": "stdout",
     "output_type": "stream",
     "text": [
      "24.00\n"
     ]
    }
   ],
   "source": [
    "#W2A9\n",
    "x = int(input())\n",
    "sum = x+ x*0.3 + x*0.1 + 10\n",
    "print(f'{sum:.2f}')"
   ]
  },
  {
   "cell_type": "code",
   "execution_count": 4,
   "id": "0f6ab5ae-9ae3-4b9e-91d3-f4582b84cf38",
   "metadata": {},
   "outputs": [
    {
     "name": "stdin",
     "output_type": "stream",
     "text": [
      " Ngo Tung Van\n"
     ]
    },
    {
     "name": "stdout",
     "output_type": "stream",
     "text": [
      "Yo Van, Tung and Ngo\n"
     ]
    }
   ],
   "source": [
    "#W2A10\n",
    "a, b, c = input().split()\n",
    "print('Yo ', c, ', ', b, ' and ', a, sep = '')"
   ]
  },
  {
   "cell_type": "code",
   "execution_count": 8,
   "id": "b668e099-a0ff-43fd-840c-76288cafd061",
   "metadata": {},
   "outputs": [
    {
     "name": "stdin",
     "output_type": "stream",
     "text": [
      " 10/5\n"
     ]
    },
    {
     "name": "stdout",
     "output_type": "stream",
     "text": [
      "36300\n"
     ]
    }
   ],
   "source": [
    "#W2A11\n",
    "h, m = map(int, input().split('/'))\n",
    "s = h*3600 + m*60\n",
    "print(s)"
   ]
  },
  {
   "cell_type": "code",
   "execution_count": null,
   "id": "ec6a1f3d-8187-4f6c-b556-dced28de929b",
   "metadata": {},
   "outputs": [],
   "source": [
    "#W2A12\n",
    "n = int(input())\n",
    "s = n*n*6\n",
    "print(s)"
   ]
  },
  {
   "cell_type": "code",
   "execution_count": 10,
   "id": "5d199a6c-7bee-4e8d-923c-68de2f5003ef",
   "metadata": {},
   "outputs": [
    {
     "name": "stdin",
     "output_type": "stream",
     "text": [
      " 12 15\n"
     ]
    },
    {
     "name": "stdout",
     "output_type": "stream",
     "text": [
      "0\n"
     ]
    }
   ],
   "source": [
    "#WA13\n",
    "a, b = map(int, input().split())\n",
    "print(a*b%10)"
   ]
  },
  {
   "cell_type": "code",
   "execution_count": null,
   "id": "98796e4c-e84f-4da0-b295-ed56f1eed811",
   "metadata": {},
   "outputs": [],
   "source": []
  },
  {
   "cell_type": "code",
   "execution_count": 5,
   "id": "2765ece6-451d-4fc3-9019-b98873fa15bd",
   "metadata": {},
   "outputs": [
    {
     "name": "stdout",
     "output_type": "stream",
     "text": [
      "\n",
      "Spring\n",
      "Summer\n",
      "Autumn\n",
      "Winter\n",
      "\n"
     ]
    }
   ],
   "source": [
    "#W2A16\n",
    "print('''\n",
    "Spring\n",
    "Summer\n",
    "Autumn\n",
    "Winter\n",
    "''')"
   ]
  },
  {
   "cell_type": "code",
   "execution_count": 6,
   "id": "e283645f-6e9f-401f-919c-870d9accb3ae",
   "metadata": {},
   "outputs": [
    {
     "name": "stdout",
     "output_type": "stream",
     "text": [
      "  *\n",
      " ***\n",
      "*****\n"
     ]
    }
   ],
   "source": [
    "#W2A17\n",
    "print('  *')\n",
    "print(' ***')\n",
    "print('*****')\n"
   ]
  }
 ],
 "metadata": {
  "kernelspec": {
   "display_name": "Python 3 (ipykernel)",
   "language": "python",
   "name": "python3"
  },
  "language_info": {
   "codemirror_mode": {
    "name": "ipython",
    "version": 3
   },
   "file_extension": ".py",
   "mimetype": "text/x-python",
   "name": "python",
   "nbconvert_exporter": "python",
   "pygments_lexer": "ipython3",
   "version": "3.13.7"
  }
 },
 "nbformat": 4,
 "nbformat_minor": 5
}
