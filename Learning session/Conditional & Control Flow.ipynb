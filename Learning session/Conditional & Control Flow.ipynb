{
 "cells": [
  {
   "cell_type": "code",
   "execution_count": null,
   "id": "05c56cb1-3084-481a-8e53-dfaf90428735",
   "metadata": {},
   "outputs": [],
   "source": [
    "#Boolen Expressions\n",
    "is_rainy = False\n",
    "is_windy = True\n",
    "temp = 12\n",
    "\n",
    "if is_rainy:\n",
    "    print('rainy')\n",
    "if is_windy:\n",
    "    print('windy')\n",
    "\n",
    "if is_windy and not is_rainy:\n",
    "    print('Fly')"
   ]
  },
  {
   "cell_type": "markdown",
   "id": "48112a0e-638a-4b66-bfef-dcb1af732288",
   "metadata": {},
   "source": [
    "If-else Statement\n",
    "\n",
    " - Syntax:\n",
    "    if <boolen>:\n",
    "         <statement>\n",
    "    else:\n",
    "         <statement>\n",
    " - Example:"
   ]
  },
  {
   "cell_type": "markdown",
   "id": "e9177cf7-652f-4617-a38a-d4aa71c63a92",
   "metadata": {},
   "source": [
    "Structure and Flow\n",
    " - Structure:\n",
    "   + How code is presented in file\n",
    "   + Which line is earlier or later in file\n",
    "   + Which line is inside function\n",
    "   + Define possibilities or MULTIPLE EXCUTIONS\n",
    " - Flow:\n",
    "   + Order of which line is excuted first\n",
    "   + Define what happen in a SINGLE EXCUTION"
   ]
  },
  {
   "cell_type": "markdown",
   "id": "86f1c996-b88f-46a9-b352-7be1a32101ef",
   "metadata": {},
   "source": [
    "Nested if statement\n",
    "Debugging: Watches and Traces\n",
    " - Test every branch for your code\n",
    " - Use print to debug program flow"
   ]
  }
 ],
 "metadata": {
  "kernelspec": {
   "display_name": "Python 3 (ipykernel)",
   "language": "python",
   "name": "python3"
  },
  "language_info": {
   "codemirror_mode": {
    "name": "ipython",
    "version": 3
   },
   "file_extension": ".py",
   "mimetype": "text/x-python",
   "name": "python",
   "nbconvert_exporter": "python",
   "pygments_lexer": "ipython3",
   "version": "3.13.7"
  }
 },
 "nbformat": 4,
 "nbformat_minor": 5
}
